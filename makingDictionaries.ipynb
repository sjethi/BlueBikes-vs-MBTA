{
 "cells": [
  {
   "cell_type": "code",
   "execution_count": 85,
   "metadata": {},
   "outputs": [
    {
     "name": "stdout",
     "output_type": "stream",
     "text": [
      "[542 '2015-01-01 00:21:44' '2015-01-01 00:30:47' 115\n",
      " 'Porter Square Station' 42.387995000000004 -71.119084 96\n",
      " 'Cambridge Main Library at Broadway / Trowbridge St' 42.373379 -71.111075\n",
      " 277 'Subscriber' 1984 1]\n",
      "[438 '2015-01-01 00:27:03' '2015-01-01 00:34:21' 80\n",
      " 'MIT Stata Center at Vassar St / Main St' 42.3619622 -71.0920526 95\n",
      " 'Cambridge St - at Columbia St / Webster Ave' 42.372969 -71.094445 648\n",
      " 'Subscriber' 1985 1]\n"
     ]
    },
    {
     "name": "stderr",
     "output_type": "stream",
     "text": [
      "/Library/Frameworks/Python.framework/Versions/3.7/lib/python3.7/site-packages/ipykernel_launcher.py:35: FutureWarning: The 'get_values' method is deprecated and will be removed in a future version. Use '.values' or 'np.asarray(..)' instead.\n"
     ]
    }
   ],
   "source": [
    "# import sources and destinations\n",
    "import pprint\n",
    "import pandas as pd\n",
    "from pandas import DataFrame\n",
    "import collections\n",
    "\n",
    "source_dest_list = [['source1','dest1'],['Source2', 'Dest2']]\n",
    "months = [1,2,3,4,5,6,7,8,9,10,11,12]\n",
    "years = [2011, 2012, 2013, 2014, 2015, 2016, 2017, 2018, 2019]\n",
    "\n",
    "main_dictionary = {}\n",
    "\n",
    "for source_dest in source_dest_list:\n",
    "    main_dictionary[(source_dest[0], source_dest[1])] = {}\n",
    "    for year in years:\n",
    "        main_dictionary[(source_dest[0], source_dest[1])][year] = {}\n",
    "        for month in months:\n",
    "            dict_for_each_month = {'total_trips': 0, \n",
    "                                   'average_distance': 0,\n",
    "                                   'average bike time': 0,\n",
    "                                   'average age': 0,\n",
    "                                   'numFemales': 0,\n",
    "                                   'numMales': 0,\n",
    "                                   'numOthers': 0\n",
    "                                  }\n",
    "            main_dictionary[(source_dest[0], source_dest[1])][year][month] = dict_for_each_month\n",
    "\n",
    "            \n",
    "def process(trip):\n",
    "    print(trip)\n",
    "    \n",
    "# read in trips data\n",
    "tripData = pd.read_csv(\"combined.csv\", chunksize = 2, skip_blank_lines = True)\n",
    "for chunk in tripData:\n",
    "    chunk = chunk.get_values()\n",
    "    for trip in chunk:\n",
    "        process(trip)\n",
    "    break;\n",
    "\n",
    "    \n",
    "\n",
    "\n",
    "            "
   ]
  },
  {
   "cell_type": "code",
   "execution_count": 40,
   "metadata": {},
   "outputs": [
    {
     "name": "stdout",
     "output_type": "stream",
     "text": [
      "{(4, 2): 3, 2: 4}\n"
     ]
    }
   ],
   "source": [
    "dic = {\n",
    "    (4,2): 3\n",
    "}\n",
    "dic[(4,2)]\n",
    "dic[2] = 4\n",
    "print(dic)"
   ]
  },
  {
   "cell_type": "code",
   "execution_count": null,
   "metadata": {},
   "outputs": [],
   "source": []
  }
 ],
 "metadata": {
  "kernelspec": {
   "display_name": "Python 3",
   "language": "python",
   "name": "python3"
  },
  "language_info": {
   "codemirror_mode": {
    "name": "ipython",
    "version": 3
   },
   "file_extension": ".py",
   "mimetype": "text/x-python",
   "name": "python",
   "nbconvert_exporter": "python",
   "pygments_lexer": "ipython3",
   "version": "3.7.4"
  }
 },
 "nbformat": 4,
 "nbformat_minor": 2
}
