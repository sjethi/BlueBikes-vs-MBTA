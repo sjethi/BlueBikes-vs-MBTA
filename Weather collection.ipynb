{
 "cells": [
  {
   "cell_type": "code",
   "execution_count": 40,
   "metadata": {},
   "outputs": [
    {
     "name": "stdout",
     "output_type": "stream",
     "text": [
      "20\n",
      "40\n",
      "60\n",
      "80\n",
      "100\n",
      "120\n",
      "Total time taken:  9.95  seconds\n"
     ]
    }
   ],
   "source": [
    "import csv\n",
    "import math\n",
    "import time\n",
    "\n",
    "\n",
    "\n",
    "listMonths = range(1,13)\n",
    "listYears  = range(2008,2019)\n",
    "keys = [(x, y) for x in listYears for y in listMonths]\n",
    "\n",
    "for i in range(4,13):\n",
    "    keys.remove((2018, i))\n",
    "\n",
    "weatherDict = {}\n",
    "\n",
    "# attr = Precip (in), Snowfall (in), Avg Wind (mph), Avg Temp (F)\n",
    "\n",
    "def avgDetails(key, attr):\n",
    "    with open('weather_data.csv', 'r') as csvfile: \n",
    "        weatherReader = csv.reader(csvfile, delimiter=',')\n",
    "        next(weatherReader)\n",
    "        year = str(key[0])\n",
    "        month = str(key[1])\n",
    "\n",
    "        valIndex = -1\n",
    "        if attr == 'rain':\n",
    "            valIndex = 22\n",
    "        elif attr == 'temp':\n",
    "            valIndex = 4\n",
    "        elif attr == 'snow':\n",
    "            valIndex = 21\n",
    "        else:\n",
    "            valIndex = 19\n",
    "\n",
    "        attrSum = 0\n",
    "        count = 0\n",
    "\n",
    "        for row in weatherReader:\n",
    "            #print(row[:3])\n",
    "            #print(type(row[0]), type(row[1]))\n",
    "            if (row[0] == year) and (row[1] == month):\n",
    "                #print('here')\n",
    "                attrSum  += float(row[valIndex])\n",
    "                count += 1\n",
    "        return round((attrSum / count),2)\n",
    "\n",
    "t0 = time.time()\n",
    "\n",
    "counter = 0\n",
    "for key in keys:\n",
    "    try:\n",
    "        #print(key)\n",
    "        rain = avgDetails(key, 'rain')\n",
    "        #print('rain: ', rain)\n",
    "        temp = avgDetails(key, 'temp')\n",
    "       # print('temp: ', temp)\n",
    "        snow = avgDetails(key, 'snow')\n",
    "        wind = avgDetails(key, 'wind')\n",
    "    except:\n",
    "        print(key, 'caused error')\n",
    "    counter += 1\n",
    "    \n",
    "    if counter % 20 == 0:\n",
    "        print(counter)\n",
    "\n",
    "    weatherDict[key] = {'avg_temp': temp, 'avg_snow': snow, 'avg_wind': wind, 'avg_rain': rain}\n",
    "    \n",
    "t1 = time.time()\n",
    "total = t1-t0\n",
    "print(\"Total time taken: \", round(total, 2), \" seconds\")\n",
    "    \n",
    "\n",
    "# key = {(year, month): {avg_temp, avg_rainfall, avg_snowfall, avg_wind}}\n",
    "\n",
    "\n"
   ]
  },
  {
   "cell_type": "code",
   "execution_count": 41,
   "metadata": {},
   "outputs": [
    {
     "name": "stdout",
     "output_type": "stream",
     "text": [
      "{(2008, 1): {'avg_temp': 33.65, 'avg_snow': 0.04, 'avg_wind': 11.39, 'avg_rain': 0.08}, (2008, 2): {'avg_temp': 32.79, 'avg_snow': 0.18, 'avg_wind': 11.69, 'avg_rain': 0.24}, (2008, 3): {'avg_temp': 38.48, 'avg_snow': 0.03, 'avg_wind': 12.48, 'avg_rain': 0.15}, (2008, 4): {'avg_temp': 49.67, 'avg_snow': 0.0, 'avg_wind': 10.53, 'avg_rain': 0.1}, (2008, 5): {'avg_temp': 57.94, 'avg_snow': 0.0, 'avg_wind': 11.35, 'avg_rain': 0.09}, (2008, 6): {'avg_temp': 70.57, 'avg_snow': 0.0, 'avg_wind': 8.83, 'avg_rain': 0.12}, (2008, 7): {'avg_temp': 75.26, 'avg_snow': 0.0, 'avg_wind': 8.94, 'avg_rain': 0.19}, (2008, 8): {'avg_temp': 70.32, 'avg_snow': 0.0, 'avg_wind': 8.45, 'avg_rain': 0.14}, (2008, 9): {'avg_temp': 65.5, 'avg_snow': 0.0, 'avg_wind': 8.67, 'avg_rain': 0.21}, (2008, 10): {'avg_temp': 53.55, 'avg_snow': 0.01, 'avg_wind': 9.81, 'avg_rain': 0.05}, (2008, 11): {'avg_temp': 43.63, 'avg_snow': 0.0, 'avg_wind': 10.07, 'avg_rain': 0.15}, (2008, 12): {'avg_temp': 35.9, 'avg_snow': 0.12, 'avg_wind': 13.74, 'avg_rain': 0.18}, (2009, 1): {'avg_temp': 25.13, 'avg_snow': 0.11, 'avg_wind': 11.39, 'avg_rain': 0.08}, (2009, 2): {'avg_temp': 33.07, 'avg_snow': 0.05, 'avg_wind': 12.21, 'avg_rain': 0.06}, (2009, 3): {'avg_temp': 37.65, 'avg_snow': 0.04, 'avg_wind': 11.74, 'avg_rain': 0.06}, (2009, 4): {'avg_temp': 50.7, 'avg_snow': 0.0, 'avg_wind': 11.9, 'avg_rain': 0.14}, (2009, 5): {'avg_temp': 59.74, 'avg_snow': 0.0, 'avg_wind': 10.26, 'avg_rain': 0.09}, (2009, 6): {'avg_temp': 63.5, 'avg_snow': 0.0, 'avg_wind': 9.1, 'avg_rain': 0.11}, (2009, 7): {'avg_temp': 70.74, 'avg_snow': 0.0, 'avg_wind': 9.45, 'avg_rain': 0.22}, (2009, 8): {'avg_temp': 73.9, 'avg_snow': 0.01, 'avg_wind': 8.94, 'avg_rain': 0.1}, (2009, 9): {'avg_temp': 63.43, 'avg_snow': 0.0, 'avg_wind': 10.3, 'avg_rain': 0.1}, (2009, 10): {'avg_temp': 52.16, 'avg_snow': 0.03, 'avg_wind': 10.61, 'avg_rain': 0.17}, (2009, 11): {'avg_temp': 49.03, 'avg_snow': 0.0, 'avg_wind': 10.37, 'avg_rain': 0.11}, (2009, 12): {'avg_temp': 33.35, 'avg_snow': 0.07, 'avg_wind': 13.32, 'avg_rain': 0.1}, (2010, 1): {'avg_temp': 29.81, 'avg_snow': 0.07, 'avg_wind': 12.1, 'avg_rain': 0.07}, (2010, 2): {'avg_temp': 33.43, 'avg_snow': 0.03, 'avg_wind': 13.36, 'avg_rain': 0.12}, (2010, 3): {'avg_temp': 44.0, 'avg_snow': 0.02, 'avg_wind': 13.0, 'avg_rain': 0.48}, (2010, 4): {'avg_temp': 53.27, 'avg_snow': 0.0, 'avg_wind': 10.43, 'avg_rain': 0.06}, (2010, 5): {'avg_temp': 63.06, 'avg_snow': 0.0, 'avg_wind': 10.74, 'avg_rain': 0.09}, (2010, 6): {'avg_temp': 70.6, 'avg_snow': 0.0, 'avg_wind': 9.5, 'avg_rain': 0.11}, (2010, 7): {'avg_temp': 77.42, 'avg_snow': 0.0, 'avg_wind': 9.81, 'avg_rain': 0.09}, (2010, 8): {'avg_temp': 73.77, 'avg_snow': 0.0, 'avg_wind': 10.26, 'avg_rain': 0.19}, (2010, 9): {'avg_temp': 68.97, 'avg_snow': 0.0, 'avg_wind': 10.97, 'avg_rain': 0.06}, (2010, 10): {'avg_temp': 55.81, 'avg_snow': 0.0, 'avg_wind': 12.32, 'avg_rain': 0.13}, (2010, 11): {'avg_temp': 45.1, 'avg_snow': 0.01, 'avg_wind': 11.1, 'avg_rain': 0.1}, (2010, 12): {'avg_temp': 32.97, 'avg_snow': 0.04, 'avg_wind': 13.16, 'avg_rain': 0.05}, (2011, 1): {'avg_temp': 27.81, 'avg_snow': 0.12, 'avg_wind': 10.71, 'avg_rain': 0.04}, (2011, 2): {'avg_temp': 30.71, 'avg_snow': 0.13, 'avg_wind': 11.79, 'avg_rain': 0.12}, (2011, 3): {'avg_temp': 39.16, 'avg_snow': 0.02, 'avg_wind': 12.26, 'avg_rain': 0.07}, (2011, 4): {'avg_temp': 50.3, 'avg_snow': 0.02, 'avg_wind': 11.83, 'avg_rain': 0.13}, (2011, 5): {'avg_temp': 59.45, 'avg_snow': 0.0, 'avg_wind': 10.45, 'avg_rain': 0.1}, (2011, 6): {'avg_temp': 67.37, 'avg_snow': 0.0, 'avg_wind': 9.7, 'avg_rain': 0.16}, (2011, 7): {'avg_temp': 77.55, 'avg_snow': 0.0, 'avg_wind': 9.35, 'avg_rain': 0.07}, (2011, 8): {'avg_temp': 74.13, 'avg_snow': 0.0, 'avg_wind': 9.65, 'avg_rain': 0.21}, (2011, 9): {'avg_temp': 67.47, 'avg_snow': 0.0, 'avg_wind': 8.63, 'avg_rain': 0.15}, (2011, 10): {'avg_temp': 57.71, 'avg_snow': 0.06, 'avg_wind': 10.97, 'avg_rain': 0.22}, (2011, 11): {'avg_temp': 50.67, 'avg_snow': 0.0, 'avg_wind': 10.3, 'avg_rain': 0.14}, (2011, 12): {'avg_temp': 40.39, 'avg_snow': 0.0, 'avg_wind': 10.39, 'avg_rain': 0.13}, (2012, 1): {'avg_temp': 34.45, 'avg_snow': 0.03, 'avg_wind': 11.65, 'avg_rain': 0.08}, (2012, 2): {'avg_temp': 37.52, 'avg_snow': 0.03, 'avg_wind': 10.76, 'avg_rain': 0.03}, (2012, 3): {'avg_temp': 46.94, 'avg_snow': 0.03, 'avg_wind': 10.84, 'avg_rain': 0.04}, (2012, 4): {'avg_temp': 53.37, 'avg_snow': 0.0, 'avg_wind': 11.77, 'avg_rain': 0.1}, (2012, 5): {'avg_temp': 60.61, 'avg_snow': 0.0, 'avg_wind': 8.29, 'avg_rain': 0.11}, (2012, 6): {'avg_temp': 67.03, 'avg_snow': 0.0, 'avg_wind': 10.27, 'avg_rain': 0.16}, (2012, 7): {'avg_temp': 75.61, 'avg_snow': 0.0, 'avg_wind': 8.94, 'avg_rain': 0.13}, (2012, 8): {'avg_temp': 74.81, 'avg_snow': 0.0, 'avg_wind': 8.71, 'avg_rain': 0.1}, (2012, 9): {'avg_temp': 65.03, 'avg_snow': 0.0, 'avg_wind': 9.33, 'avg_rain': 0.11}, (2012, 10): {'avg_temp': 56.68, 'avg_snow': 0.0, 'avg_wind': 10.23, 'avg_rain': 0.08}, (2012, 11): {'avg_temp': 42.43, 'avg_snow': 0.02, 'avg_wind': 10.77, 'avg_rain': 0.03}, (2012, 12): {'avg_temp': 38.65, 'avg_snow': 0.09, 'avg_wind': 11.32, 'avg_rain': 0.19}, (2013, 1): {'avg_temp': 31.77, 'avg_snow': 0.02, 'avg_wind': 11.68, 'avg_rain': 0.04}, (2013, 2): {'avg_temp': 31.36, 'avg_snow': 0.15, 'avg_wind': 12.43, 'avg_rain': 0.11}, (2013, 3): {'avg_temp': 37.94, 'avg_snow': 0.04, 'avg_wind': 12.58, 'avg_rain': 0.04}, (2013, 4): {'avg_temp': 49.17, 'avg_snow': 0.0, 'avg_wind': 12.37, 'avg_rain': 0.05}, (2013, 5): {'avg_temp': 58.9, 'avg_snow': 0.0, 'avg_wind': 9.74, 'avg_rain': 0.1}, (2013, 6): {'avg_temp': 69.87, 'avg_snow': 0.0, 'avg_wind': 10.5, 'avg_rain': 0.35}, (2013, 7): {'avg_temp': 77.29, 'avg_snow': 0.0, 'avg_wind': 9.13, 'avg_rain': 0.12}, (2013, 8): {'avg_temp': 72.39, 'avg_snow': 0.0, 'avg_wind': 9.06, 'avg_rain': 0.06}, (2013, 9): {'avg_temp': 65.0, 'avg_snow': 0.0, 'avg_wind': 8.87, 'avg_rain': 0.07}, (2013, 10): {'avg_temp': 57.03, 'avg_snow': 0.0, 'avg_wind': 8.9, 'avg_rain': 0.02}, (2013, 11): {'avg_temp': 42.9, 'avg_snow': 0.01, 'avg_wind': 11.67, 'avg_rain': 0.09}, (2013, 12): {'avg_temp': 33.68, 'avg_snow': 0.12, 'avg_wind': 10.23, 'avg_rain': 0.12}, (2014, 1): {'avg_temp': 27.68, 'avg_snow': 0.05, 'avg_wind': 12.03, 'avg_rain': 0.08}, (2014, 2): {'avg_temp': 29.21, 'avg_snow': 0.12, 'avg_wind': 11.0, 'avg_rain': 0.07}, (2014, 3): {'avg_temp': 33.52, 'avg_snow': 0.02, 'avg_wind': 11.61, 'avg_rain': 0.13}, (2014, 4): {'avg_temp': 48.33, 'avg_snow': 0.01, 'avg_wind': 12.07, 'avg_rain': 0.11}, (2014, 5): {'avg_temp': 58.9, 'avg_snow': 0.0, 'avg_wind': 10.03, 'avg_rain': 0.09}, (2014, 6): {'avg_temp': 68.67, 'avg_snow': 0.0, 'avg_wind': 9.9, 'avg_rain': 0.09}, (2014, 7): {'avg_temp': 74.39, 'avg_snow': 0.0, 'avg_wind': 10.39, 'avg_rain': 0.15}, (2014, 8): {'avg_temp': 71.06, 'avg_snow': 0.0, 'avg_wind': 9.06, 'avg_rain': 0.06}, (2014, 9): {'avg_temp': 66.47, 'avg_snow': 0.0, 'avg_wind': 9.07, 'avg_rain': 0.02}, (2014, 10): {'avg_temp': 56.58, 'avg_snow': 0.0, 'avg_wind': 11.19, 'avg_rain': 0.19}, (2014, 11): {'avg_temp': 42.8, 'avg_snow': 0.07, 'avg_wind': 10.93, 'avg_rain': 0.17}, (2014, 12): {'avg_temp': 38.45, 'avg_snow': 0.0, 'avg_wind': 11.13, 'avg_rain': 0.21}, (2015, 1): {'avg_temp': 26.35, 'avg_snow': 0.09, 'avg_wind': 12.39, 'avg_rain': 0.07}, (2015, 2): {'avg_temp': 19.25, 'avg_snow': 0.12, 'avg_wind': 12.07, 'avg_rain': 0.01}, (2015, 3): {'avg_temp': 33.48, 'avg_snow': 0.04, 'avg_wind': 11.13, 'avg_rain': 0.09}, (2015, 4): {'avg_temp': 48.27, 'avg_snow': 0.01, 'avg_wind': 12.03, 'avg_rain': 0.08}, (2015, 5): {'avg_temp': 62.55, 'avg_snow': 0.0, 'avg_wind': 11.1, 'avg_rain': 0.04}, (2015, 6): {'avg_temp': 64.97, 'avg_snow': 0.0, 'avg_wind': 9.67, 'avg_rain': 0.17}, (2015, 7): {'avg_temp': 74.16, 'avg_snow': 0.0, 'avg_wind': 8.74, 'avg_rain': 0.07}, (2015, 8): {'avg_temp': 74.9, 'avg_snow': 0.0, 'avg_wind': 8.77, 'avg_rain': 0.07}, (2015, 9): {'avg_temp': 69.47, 'avg_snow': 0.01, 'avg_wind': 9.4, 'avg_rain': 0.13}, (2015, 10): {'avg_temp': 54.32, 'avg_snow': 0.0, 'avg_wind': 11.65, 'avg_rain': 0.06}, (2015, 11): {'avg_temp': 48.8, 'avg_snow': 0.0, 'avg_wind': 10.33, 'avg_rain': 0.07}, (2015, 12): {'avg_temp': 45.55, 'avg_snow': 0.03, 'avg_wind': 9.03, 'avg_rain': 0.14}, (2016, 1): {'avg_temp': 32.71, 'avg_snow': 0.02, 'avg_wind': 12.29, 'avg_rain': 0.09}, (2016, 2): {'avg_temp': 34.97, 'avg_snow': 0.05, 'avg_wind': 12.72, 'avg_rain': 0.13}, (2016, 3): {'avg_temp': 42.81, 'avg_snow': 0.01, 'avg_wind': 11.94, 'avg_rain': 0.09}, (2016, 4): {'avg_temp': 47.27, 'avg_snow': 0.03, 'avg_wind': 11.5, 'avg_rain': 0.08}, (2016, 5): {'avg_temp': 58.81, 'avg_snow': 0.0, 'avg_wind': 9.87, 'avg_rain': 0.09}, (2016, 6): {'avg_temp': 68.73, 'avg_snow': 0.0, 'avg_wind': 10.67, 'avg_rain': 0.04}, (2016, 7): {'avg_temp': 76.26, 'avg_snow': 0.0, 'avg_wind': 9.94, 'avg_rain': 0.03}, (2016, 8): {'avg_temp': 76.68, 'avg_snow': 0.0, 'avg_wind': 10.55, 'avg_rain': 0.06}, (2016, 9): {'avg_temp': 67.73, 'avg_snow': 0.0, 'avg_wind': 10.83, 'avg_rain': 0.05}, (2016, 10): {'avg_temp': 55.58, 'avg_snow': 0.0, 'avg_wind': 10.81, 'avg_rain': 0.18}, (2016, 11): {'avg_temp': 46.43, 'avg_snow': 0.0, 'avg_wind': 10.33, 'avg_rain': 0.09}, (2016, 12): {'avg_temp': 35.42, 'avg_snow': 0.07, 'avg_wind': 12.26, 'avg_rain': 0.1}, (2017, 1): {'avg_temp': 35.45, 'avg_snow': 0.07, 'avg_wind': 12.39, 'avg_rain': 0.11}, (2017, 2): {'avg_temp': 37.04, 'avg_snow': 0.08, 'avg_wind': 12.68, 'avg_rain': 0.06}, (2017, 3): {'avg_temp': 34.32, 'avg_snow': 0.09, 'avg_wind': 13.87, 'avg_rain': 0.13}, (2017, 4): {'avg_temp': 51.87, 'avg_snow': 0.05, 'avg_wind': 12.1, 'avg_rain': 0.19}, (2017, 5): {'avg_temp': 56.52, 'avg_snow': 0.0, 'avg_wind': 10.87, 'avg_rain': 0.11}, (2017, 6): {'avg_temp': 69.7, 'avg_snow': 0.0, 'avg_wind': 11.63, 'avg_rain': 0.16}, (2017, 7): {'avg_temp': 72.77, 'avg_snow': 0.0, 'avg_wind': 9.68, 'avg_rain': 0.13}, (2017, 8): {'avg_temp': 72.29, 'avg_snow': 0.0, 'avg_wind': 9.35, 'avg_rain': 0.05}, (2017, 9): {'avg_temp': 67.47, 'avg_snow': 0.0, 'avg_wind': 10.63, 'avg_rain': 0.12}, (2017, 10): {'avg_temp': 61.65, 'avg_snow': 0.0, 'avg_wind': 10.97, 'avg_rain': 0.13}, (2017, 11): {'avg_temp': 43.87, 'avg_snow': 0.0, 'avg_wind': 11.33, 'avg_rain': 0.06}, (2017, 12): {'avg_temp': 30.9, 'avg_snow': 0.06, 'avg_wind': 11.45, 'avg_rain': 0.06}, (2018, 1): {'avg_temp': 28.9, 'avg_snow': 0.06, 'avg_wind': 13.29, 'avg_rain': 0.15}, (2018, 2): {'avg_temp': 38.25, 'avg_snow': 0.05, 'avg_wind': 11.07, 'avg_rain': 0.12}, (2018, 3): {'avg_temp': 37.52, 'avg_snow': 0.13, 'avg_wind': 15.14, 'avg_rain': 0.11}}\n"
     ]
    }
   ],
   "source": [
    "print(weatherDict)"
   ]
  },
  {
   "cell_type": "code",
   "execution_count": null,
   "metadata": {},
   "outputs": [],
   "source": []
  }
 ],
 "metadata": {
  "kernelspec": {
   "display_name": "Python 3",
   "language": "python",
   "name": "python3"
  },
  "language_info": {
   "codemirror_mode": {
    "name": "ipython",
    "version": 3
   },
   "file_extension": ".py",
   "mimetype": "text/x-python",
   "name": "python",
   "nbconvert_exporter": "python",
   "pygments_lexer": "ipython3",
   "version": "3.7.3"
  }
 },
 "nbformat": 4,
 "nbformat_minor": 2
}
