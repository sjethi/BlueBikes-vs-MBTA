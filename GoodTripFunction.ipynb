{
 "cells": [
  {
   "cell_type": "code",
   "execution_count": 14,
   "metadata": {},
   "outputs": [],
   "source": [
    "def isGoodTrip(trip):\n",
    "    \n",
    "    tripDuration = trip[0]\n",
    "    startStationLat = trip[5]\n",
    "    startStationLon = trip[6]\n",
    "    endStationLat = trip[9]\n",
    "    endStationLong = trip[10]\n",
    "    birthYear = trip[13]\n",
    "    gender = trip[14]\n",
    "    \n",
    "    if isInt(tripDuration) and \\\n",
    "       isGoodDate(trip) and \\\n",
    "       goodCoord(startStationLat) and \\\n",
    "       goodCoord(startStationLon) and \\\n",
    "       goodCoord(endStationLat) and \\\n",
    "       goodCoord(endStationLon) and \\\n",
    "       isInt(birthYear) and \\\n",
    "       isInt(gender) and \\\n",
    "       correctGenderRange(gender):\n",
    "        return True\n",
    "    \n",
    "    return False\n",
    "    \n",
    "    \n",
    "    \n",
    "    \n",
    "def isInt(val):\n",
    "    try: \n",
    "        int(val)\n",
    "        return True\n",
    "    except ValueError:\n",
    "        return False\n",
    "    \n",
    "def isGoodDate(trip):\n",
    "    # only startTime\n",
    "    return (len(trip[1]) == 19) \n",
    "\n",
    "def goodCoord(value):\n",
    "    try:\n",
    "        float(s)\n",
    "        return True\n",
    "    except ValueError:\n",
    "        return False\n",
    "\n",
    "def correctGenderRange(gender):\n",
    "    return gender in ['0','1','2']\n",
    "    "
   ]
  },
  {
   "cell_type": "code",
   "execution_count": 13,
   "metadata": {},
   "outputs": [
    {
     "name": "stdout",
     "output_type": "stream",
     "text": [
      "False\n",
      "False\n",
      "False\n",
      "True\n"
     ]
    }
   ],
   "source": [
    "test1 = ['a', '2015-01-01 00:21:44']\n",
    "test2 = ['123', '2015a1-01 00:21:44']\n",
    "test3 = ['123', '2015-1-01 00:21:44']\n",
    "test4 = ['123', '2015-01-01 00:21:44']\n",
    "\n",
    "\n",
    "print(isGoodTrip(test1))\n",
    "print(isGoodTrip(test2))\n",
    "print(isGoodTrip(test3))\n",
    "print(isGoodTrip(test4))"
   ]
  },
  {
   "cell_type": "code",
   "execution_count": null,
   "metadata": {},
   "outputs": [],
   "source": []
  }
 ],
 "metadata": {
  "kernelspec": {
   "display_name": "Python 3",
   "language": "python",
   "name": "python3"
  },
  "language_info": {
   "codemirror_mode": {
    "name": "ipython",
    "version": 3
   },
   "file_extension": ".py",
   "mimetype": "text/x-python",
   "name": "python",
   "nbconvert_exporter": "python",
   "pygments_lexer": "ipython3",
   "version": "3.7.3"
  }
 },
 "nbformat": 4,
 "nbformat_minor": 2
}
