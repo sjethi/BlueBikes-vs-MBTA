{
 "cells": [
  {
   "cell_type": "code",
   "execution_count": 1,
   "metadata": {},
   "outputs": [],
   "source": [
    "dictionary = {}\n",
    "\n",
    "def getDict():\n",
    "    f = open('main_dictionary.txt', 'r')    # Open for reading.\n",
    "    print('reading')\n",
    "    d_str = f.read()           # Read in a string that represents a dict.\n",
    "    f.close()\n",
    "    \n",
    "    print('evaluating')\n",
    "    dictionary = dict(eval(d_str))      # Convert the string to a dictionary.)\n",
    "    print('dictionary in store')\n",
    "    return dictionary\n",
    "\n",
    "def getName(stationIdentifier):\n",
    "    with open('current_bluebikes_stations.csv') as csvfile:\n",
    "        readCSV = csv.reader(csvfile, delimiter=';')\n",
    "        header = next(readCSV)\n",
    "        for row in readCSV:\n",
    "            if row[0] == stationIdentifier:\n",
    "                return row[1]\n",
    "        return 'unknown'\n",
    "\n",
    "def totalTripList(key):\n",
    "    months = list(range(1,13))\n",
    "    monthTrips = []\n",
    "    \n",
    "    for i in months:\n",
    "        monthTrips += [((dictionary[key])[i])['total_trips']]\n",
    "        #print('finding total trips')\n",
    "    return monthTrips\n",
    "        \n"
   ]
  },
  {
   "cell_type": "code",
   "execution_count": 2,
   "metadata": {},
   "outputs": [
    {
     "name": "stdout",
     "output_type": "stream",
     "text": [
      "reading\n",
      "evaluating\n",
      "dictionary in store\n"
     ]
    }
   ],
   "source": [
    "dictionary = getDict()"
   ]
  },
  {
   "cell_type": "code",
   "execution_count": null,
   "metadata": {},
   "outputs": [],
   "source": [
    "import time\n",
    "\n",
    "c = 0\n",
    "emptyData = {'total_trips': 0, 'total_bike_time': 0, 'average_bike_time': 0, 'age_sum': 0, 'average_age': 0, 'numFemales': 0, 'numMales': 0, 'numOthers': 0}\n",
    "val3 = {'distance': 6.59, 1: {'total_trips': 0, 'total_bike_time': 0, 'average_bike_time': 0, 'age_sum': 0, 'average_age': 0, 'numFemales': 0, 'numMales': 0, 'numOthers': 0}, 2: {'total_trips': 0, 'total_bike_time': 0, 'average_bike_time': 0, 'age_sum': 0, 'average_age': 0, 'numFemales': 0, 'numMales': 0, 'numOthers': 0}, 3: {'total_trips': 0, 'total_bike_time': 0, 'average_bike_time': 0, 'age_sum': 0, 'average_age': 0, 'numFemales': 0, 'numMales': 0, 'numOthers': 0}, 4: {'total_trips': 0, 'total_bike_time': 0, 'average_bike_time': 0, 'age_sum': 0, 'average_age': 0, 'numFemales': 0, 'numMales': 0, 'numOthers': 0}, 5: {'total_trips': 0, 'total_bike_time': 0, 'average_bike_time': 0, 'age_sum': 0, 'average_age': 0, 'numFemales': 0, 'numMales': 0, 'numOthers': 0}, 6: {'total_trips': 0, 'total_bike_time': 0, 'average_bike_time': 0, 'age_sum': 0, 'average_age': 0, 'numFemales': 0, 'numMales': 0, 'numOthers': 0}, 7: {'total_trips': 0, 'total_bike_time': 0, 'average_bike_time': 0, 'age_sum': 0, 'average_age': 0, 'numFemales': 0, 'numMales': 0, 'numOthers': 0}, 8: {'total_trips': 0, 'total_bike_time': 0, 'average_bike_time': 0, 'age_sum': 0, 'average_age': 0, 'numFemales': 0, 'numMales': 0, 'numOthers': 0}, 9: {'total_trips': 0, 'total_bike_time': 0, 'average_bike_time': 0, 'age_sum': 0, 'average_age': 0, 'numFemales': 0, 'numMales': 0, 'numOthers': 0}, 10: {'total_trips': 0, 'total_bike_time': 0, 'average_bike_time': 0, 'age_sum': 0, 'average_age': 0, 'numFemales': 0, 'numMales': 0, 'numOthers': 0}, 11: {'total_trips': 0, 'total_bike_time': 0, 'average_bike_time': 0, 'age_sum': 0, 'average_age': 0, 'numFemales': 0, 'numMales': 0, 'numOthers': 0}, 12: {'total_trips': 0, 'total_bike_time': 0, 'average_bike_time': 0, 'age_sum': 0, 'average_age': 0, 'numFemales': 0, 'numMales': 0, 'numOthers': 0}}\n",
    "val ={'distance': 2.468, 1: {'total_trips': 3, 'total_bike_time': 3384, 'average_bike_time': 1128.0, 'age_sum': 99, 'average_age': 33.0, 'numFemales': 0, 'numMales': 3, 'numOthers': 0}, 2: {'total_trips': 3, 'total_bike_time': 2699, 'average_bike_time': 899.6666666666666, 'age_sum': 125, 'average_age': 41.666666666666664, 'numFemales': 0, 'numMales': 3, 'numOthers': 0}, 3: {'total_trips': 11, 'total_bike_time': 13464, 'average_bike_time': 1224.0, 'age_sum': 398, 'average_age': 36.18181818181818, 'numFemales': 0, 'numMales': 11, 'numOthers': 0}, 4: {'total_trips': 6, 'total_bike_time': 12205, 'average_bike_time': 2034.1666666666667, 'age_sum': 183, 'average_age': 30.5, 'numFemales': 0, 'numMales': 6, 'numOthers': 0}, 5: {'total_trips': 6, 'total_bike_time': 8322, 'average_bike_time': 1387.0, 'age_sum': 219, 'average_age': 36.5, 'numFemales': 1, 'numMales': 5, 'numOthers': 0}, 6: {'total_trips': 9, 'total_bike_time': 8994, 'average_bike_time': 999.3333333333334, 'age_sum': 336, 'average_age': 37.333333333333336, 'numFemales': 2, 'numMales': 7, 'numOthers': 0}, 7: {'total_trips': 13, 'total_bike_time': 15811, 'average_bike_time': 1216.2307692307693, 'age_sum': 395, 'average_age': 30.384615384615383, 'numFemales': 4, 'numMales': 9, 'numOthers': 0}, 8: {'total_trips': 16, 'total_bike_time': 20424, 'average_bike_time': 1276.5, 'age_sum': 474, 'average_age': 29.625, 'numFemales': 6, 'numMales': 9, 'numOthers': 1}, 9: {'total_trips': 7, 'total_bike_time': 8215, 'average_bike_time': 1173.5714285714287, 'age_sum': 234, 'average_age': 33.42857142857143, 'numFemales': 2, 'numMales': 5, 'numOthers': 0}, 10: {'total_trips': 9, 'total_bike_time': 10842, 'average_bike_time': 1204.6666666666667, 'age_sum': 281, 'average_age': 31.22222222222222, 'numFemales': 1, 'numMales': 8, 'numOthers': 0}, 11: {'total_trips': 2, 'total_bike_time': 2132, 'average_bike_time': 1066.0, 'age_sum': 73, 'average_age': 36.5, 'numFemales': 0, 'numMales': 2, 'numOthers': 0}, 12: {'total_trips': 1, 'total_bike_time': 1229, 'average_bike_time': 1229.0, 'age_sum': 30, 'average_age': 30.0, 'numFemales': 0, 'numMales': 1, 'numOthers': 0}}\n",
    "val2 = {'distance': 1.883, 1: {'total_trips': 9, 'total_bike_time': 6599, 'average_bike_time': 733.2222222222222, 'age_sum': 304, 'average_age': 33.77777777777778, 'numFemales': 1, 'numMales': 8, 'numOthers': 0}, 2: {'total_trips': 9, 'total_bike_time': 6308, 'average_bike_time': 700.8888888888889, 'age_sum': 306, 'average_age': 34.0, 'numFemales': 2, 'numMales': 7, 'numOthers': 0}, 3: {'total_trips': 18, 'total_bike_time': 14316, 'average_bike_time': 795.3333333333334, 'age_sum': 573, 'average_age': 31.833333333333332, 'numFemales': 5, 'numMales': 13, 'numOthers': 0}, 4: {'total_trips': 8, 'total_bike_time': 8673, 'average_bike_time': 1084.125, 'age_sum': 403, 'average_age': 50.375, 'numFemales': 3, 'numMales': 5, 'numOthers': 0}, 5: {'total_trips': 24, 'total_bike_time': 34151, 'average_bike_time': 1422.9583333333333, 'age_sum': 1285, 'average_age': 53.541666666666664, 'numFemales': 2, 'numMales': 22, 'numOthers': 0}, 6: {'total_trips': 28, 'total_bike_time': 33076, 'average_bike_time': 1181.2857142857142, 'age_sum': 1292, 'average_age': 46.142857142857146, 'numFemales': 5, 'numMales': 23, 'numOthers': 0}, 7: {'total_trips': 22, 'total_bike_time': 21868, 'average_bike_time': 994.0, 'age_sum': 898, 'average_age': 40.81818181818182, 'numFemales': 8, 'numMales': 14, 'numOthers': 0}, 8: {'total_trips': 57, 'total_bike_time': 56568, 'average_bike_time': 992.421052631579, 'age_sum': 4089, 'average_age': 71.73684210526316, 'numFemales': 26, 'numMales': 31, 'numOthers': 0}, 9: {'total_trips': 33, 'total_bike_time': 34584, 'average_bike_time': 1048.0, 'age_sum': 2008, 'average_age': 60.84848484848485, 'numFemales': 9, 'numMales': 24, 'numOthers': 0}, 10: {'total_trips': 19, 'total_bike_time': 17064, 'average_bike_time': 898.1052631578947, 'age_sum': 792, 'average_age': 41.68421052631579, 'numFemales': 4, 'numMales': 15, 'numOthers': 0}, 11: {'total_trips': 15, 'total_bike_time': 12751, 'average_bike_time': 850.0666666666667, 'age_sum': 594, 'average_age': 39.6, 'numFemales': 2, 'numMales': 13, 'numOthers': 0}, 12: {'total_trips': 13, 'total_bike_time': 12242, 'average_bike_time': 941.6923076923077, 'age_sum': 649, 'average_age': 49.92307692307692, 'numFemales': 4, 'numMales': 9, 'numOthers': 0}}\n",
    "t0 = time.time()\n",
    "\n",
    "for x in dictionary:\n",
    "    for i in range(1,13):\n",
    "        if emptyData != (dictionary[x])[i]:\n",
    "            c+=((dictionary[x])[i])['total_trips']\n",
    "        #c+= 1\n",
    "  #  print(dictionary[x])\n",
    "\n",
    "print(c)\n",
    "print(len(dictionary))\n",
    "t1 = time.time()\n",
    "total = t1-t0\n",
    "print(\"Total time taken: \", round(total, 2), \" seconds\")\n",
    "    \n"
   ]
  },
  {
   "cell_type": "code",
   "execution_count": 6,
   "metadata": {},
   "outputs": [],
   "source": [
    "import csv\n",
    "def createMasterTable():\n",
    "    print('here')\n",
    "\n",
    "    counter = 0\n",
    "    with open('bikeRoutesCombinedListFinal.csv', 'r') as csvfile:\n",
    "        with open('regTabData.csv', 'w') as csvfile2:\n",
    "            #print('here')\n",
    "\n",
    "            writeRegData = csv.writer(csvfile2, delimiter=',')\n",
    "            readRegData = csv.reader(csvfile, delimiter=',')\n",
    "            writeRegData.writerow(['Source', 'Destination', 'sName', 'dName', 'biking distance', 'biking time', 'total train time', 'in-train time', 'train walk time', 'train wait time', 'number of transfers', 'jan', 'feb', 'march', 'april', 'may', 'june', 'july', 'aug', 'sept', 'oct', 'nov', 'dec', 'total', 'trainRoute?', 'alternate'])\n",
    "            \n",
    "            a = 0\n",
    "            \n",
    "            for row in readRegData:\n",
    "               # print(row)\n",
    "\n",
    "                source = getName(row[0])\n",
    "                dest = getName(row[1])\n",
    "               # print(source, dest)\n",
    "                \n",
    "                if  (source != 'unknown' and dest != 'unknown'):\n",
    "\n",
    "                    key = (source, dest)\n",
    "                    monthlyTrips = totalTripList(key)\n",
    "                    totalTrips = sum(monthlyTrips)\n",
    "                    \n",
    "                    toAdd = [row[0], row[1], source, dest]\n",
    "                    \n",
    "                    for i in range(6,13):\n",
    "                        toAdd += [row[i]]\n",
    "                        #print(toAdd, i)\n",
    "                        \n",
    "                    trRoute = 1\n",
    "                    if row[8] == 0:\n",
    "                        trRoute = 0\n",
    "                        \n",
    "\n",
    "                        \n",
    "                    for i in range(12):\n",
    "                        toAdd += [monthlyTrips[i]]\n",
    "                    \n",
    "\n",
    "                    if counter % 2000 == 0:\n",
    "                        print(counter)\n",
    "                    writeRegData.writerow(toAdd+[totalTrips] + [trRoute] + [a])\n",
    "                    if a == 0:\n",
    "                        a = 1\n",
    "                    else:\n",
    "                        a = 0\n",
    "                    counter += 1"
   ]
  },
  {
   "cell_type": "code",
   "execution_count": 7,
   "metadata": {
    "scrolled": true
   },
   "outputs": [
    {
     "name": "stdout",
     "output_type": "stream",
     "text": [
      "here\n",
      "0\n",
      "2000\n",
      "4000\n",
      "6000\n",
      "8000\n",
      "10000\n",
      "12000\n",
      "14000\n",
      "16000\n",
      "18000\n",
      "20000\n",
      "22000\n",
      "24000\n",
      "26000\n"
     ]
    },
    {
     "ename": "KeyboardInterrupt",
     "evalue": "",
     "output_type": "error",
     "traceback": [
      "\u001b[1;31m---------------------------------------------------------------------------\u001b[0m",
      "\u001b[1;31mKeyboardInterrupt\u001b[0m                         Traceback (most recent call last)",
      "\u001b[1;32m<ipython-input-7-fef4e594dffd>\u001b[0m in \u001b[0;36m<module>\u001b[1;34m\u001b[0m\n\u001b[0;32m      1\u001b[0m \u001b[1;32mimport\u001b[0m \u001b[0mtime\u001b[0m\u001b[1;33m\u001b[0m\u001b[1;33m\u001b[0m\u001b[0m\n\u001b[0;32m      2\u001b[0m \u001b[0mt0\u001b[0m \u001b[1;33m=\u001b[0m \u001b[0mtime\u001b[0m\u001b[1;33m.\u001b[0m\u001b[0mtime\u001b[0m\u001b[1;33m(\u001b[0m\u001b[1;33m)\u001b[0m\u001b[1;33m\u001b[0m\u001b[1;33m\u001b[0m\u001b[0m\n\u001b[1;32m----> 3\u001b[1;33m \u001b[0mcreateMasterTable\u001b[0m\u001b[1;33m(\u001b[0m\u001b[1;33m)\u001b[0m\u001b[1;33m\u001b[0m\u001b[1;33m\u001b[0m\u001b[0m\n\u001b[0m\u001b[0;32m      4\u001b[0m \u001b[0mt1\u001b[0m \u001b[1;33m=\u001b[0m \u001b[0mtime\u001b[0m\u001b[1;33m.\u001b[0m\u001b[0mtime\u001b[0m\u001b[1;33m(\u001b[0m\u001b[1;33m)\u001b[0m\u001b[1;33m\u001b[0m\u001b[1;33m\u001b[0m\u001b[0m\n\u001b[0;32m      5\u001b[0m \u001b[1;33m\u001b[0m\u001b[0m\n",
      "\u001b[1;32m<ipython-input-6-479eb920033a>\u001b[0m in \u001b[0;36mcreateMasterTable\u001b[1;34m()\u001b[0m\n\u001b[0;32m     17\u001b[0m                \u001b[1;31m# print(row)\u001b[0m\u001b[1;33m\u001b[0m\u001b[1;33m\u001b[0m\u001b[1;33m\u001b[0m\u001b[0m\n\u001b[0;32m     18\u001b[0m \u001b[1;33m\u001b[0m\u001b[0m\n\u001b[1;32m---> 19\u001b[1;33m                 \u001b[0msource\u001b[0m \u001b[1;33m=\u001b[0m \u001b[0mgetName\u001b[0m\u001b[1;33m(\u001b[0m\u001b[0mrow\u001b[0m\u001b[1;33m[\u001b[0m\u001b[1;36m0\u001b[0m\u001b[1;33m]\u001b[0m\u001b[1;33m)\u001b[0m\u001b[1;33m\u001b[0m\u001b[1;33m\u001b[0m\u001b[0m\n\u001b[0m\u001b[0;32m     20\u001b[0m                 \u001b[0mdest\u001b[0m \u001b[1;33m=\u001b[0m \u001b[0mgetName\u001b[0m\u001b[1;33m(\u001b[0m\u001b[0mrow\u001b[0m\u001b[1;33m[\u001b[0m\u001b[1;36m1\u001b[0m\u001b[1;33m]\u001b[0m\u001b[1;33m)\u001b[0m\u001b[1;33m\u001b[0m\u001b[1;33m\u001b[0m\u001b[0m\n\u001b[0;32m     21\u001b[0m                \u001b[1;31m# print(source, dest)\u001b[0m\u001b[1;33m\u001b[0m\u001b[1;33m\u001b[0m\u001b[1;33m\u001b[0m\u001b[0m\n",
      "\u001b[1;31mKeyboardInterrupt\u001b[0m: "
     ]
    }
   ],
   "source": [
    "import time\n",
    "t0 = time.time()\n",
    "createMasterTable()\n",
    "t1 = time.time()\n",
    "\n",
    "total = t1-t0\n",
    "print(\"Total time taken: \", round(total, 2), \" seconds\")"
   ]
  },
  {
   "cell_type": "code",
   "execution_count": null,
   "metadata": {},
   "outputs": [],
   "source": []
  }
 ],
 "metadata": {
  "kernelspec": {
   "display_name": "Python 3",
   "language": "python",
   "name": "python3"
  },
  "language_info": {
   "codemirror_mode": {
    "name": "ipython",
    "version": 3
   },
   "file_extension": ".py",
   "mimetype": "text/x-python",
   "name": "python",
   "nbconvert_exporter": "python",
   "pygments_lexer": "ipython3",
   "version": "3.7.3"
  }
 },
 "nbformat": 4,
 "nbformat_minor": 2
}
